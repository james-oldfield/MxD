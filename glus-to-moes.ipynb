{
 "cells": [
  {
   "cell_type": "code",
   "execution_count": 2,
   "id": "30ca4a2f",
   "metadata": {},
   "outputs": [],
   "source": [
    "import torch\n",
    "from einops import einsum "
   ]
  },
  {
   "cell_type": "code",
   "execution_count": 3,
   "id": "b38b0d04",
   "metadata": {},
   "outputs": [],
   "source": [
    "torch.random.manual_seed(0)\n",
    "\n",
    "I = 16\n",
    "O = 8\n",
    "\n",
    "z = torch.randn(I)\n",
    "W_glu = torch.randn(I, O)\n",
    "W_enc = torch.randn(I, O)"
   ]
  },
  {
   "cell_type": "markdown",
   "id": "0dfb73e9",
   "metadata": {},
   "source": [
    "# GLU encoders\n",
    "Vanilla foward pass is as follows:"
   ]
  },
  {
   "cell_type": "code",
   "execution_count": 3,
   "id": "f735a900",
   "metadata": {},
   "outputs": [
    {
     "name": "stdout",
     "output_type": "stream",
     "text": [
      "tensor([-1.9279,  0.4093,  2.1107, -3.8921, -0.6280,  0.0743,  2.3439, -0.0201])\n"
     ]
    }
   ],
   "source": [
    "activ_fn = torch.sigmoid\n",
    "a = activ_fn(W_glu.T @ z)\n",
    "out = a * (W_enc.T @ z)\n",
    "\n",
    "print(out)"
   ]
  },
  {
   "cell_type": "markdown",
   "id": "d9a3e2bd",
   "metadata": {},
   "source": [
    "# Rank-1 MoEs\n",
    "And can also be written as:  "
   ]
  },
  {
   "cell_type": "code",
   "execution_count": 4,
   "id": "c2413aba",
   "metadata": {},
   "outputs": [
    {
     "name": "stdout",
     "output_type": "stream",
     "text": [
      "tensor([-1.9279,  0.4093,  2.1107, -3.8921, -0.6280,  0.0743,  2.3439, -0.0201])\n"
     ]
    }
   ],
   "source": [
    "# take a as our expert coefficients\n",
    "out_moe = 0\n",
    "ranks = []\n",
    "for n in range(O):\n",
    "    # compute this instead as an MoE \n",
    "    E = W_enc @ torch.diag(torch.eye(O)[n])\n",
    "    ranks += [torch.linalg.matrix_rank(E)]\n",
    "\n",
    "    out_moe += a[n] * (E.T @ z)\n",
    "    \n",
    "print(out_moe)"
   ]
  },
  {
   "cell_type": "code",
   "execution_count": 5,
   "id": "4c071eae",
   "metadata": {},
   "outputs": [
    {
     "name": "stdout",
     "output_type": "stream",
     "text": [
      "... GLUs and MoEs are equivalent under re-parameterization\n"
     ]
    }
   ],
   "source": [
    "torch.testing.assert_close(out, out_moe)\n",
    "print('... GLUs and MoEs are equivalent under re-parameterization')"
   ]
  },
  {
   "cell_type": "code",
   "execution_count": 6,
   "id": "bdf00e21",
   "metadata": {},
   "outputs": [
    {
     "name": "stdout",
     "output_type": "stream",
     "text": [
      "Rank of each GLU expert:\n",
      "Expert 0: 1\n",
      "Expert 1: 1\n",
      "Expert 2: 1\n",
      "Expert 3: 1\n",
      "Expert 4: 1\n",
      "Expert 5: 1\n",
      "Expert 6: 1\n",
      "Expert 7: 1\n"
     ]
    }
   ],
   "source": [
    "print('Rank of each GLU expert:')\n",
    "for n in range(O):\n",
    "    print(f'Expert {n}: {ranks[n]}')"
   ]
  }
 ],
 "metadata": {
  "kernelspec": {
   "display_name": "base",
   "language": "python",
   "name": "python3"
  },
  "language_info": {
   "codemirror_mode": {
    "name": "ipython",
    "version": 3
   },
   "file_extension": ".py",
   "mimetype": "text/x-python",
   "name": "python",
   "nbconvert_exporter": "python",
   "pygments_lexer": "ipython3",
   "version": "3.12.8"
  }
 },
 "nbformat": 4,
 "nbformat_minor": 5
}
