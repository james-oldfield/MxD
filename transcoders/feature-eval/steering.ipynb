{
 "cells": [
  {
   "cell_type": "markdown",
   "id": "e096e8e5-3bba-456b-ab84-4571aea3690f",
   "metadata": {},
   "source": [
    "# Setup"
   ]
  },
  {
   "cell_type": "code",
   "execution_count": 1,
   "id": "d967a00c",
   "metadata": {},
   "outputs": [],
   "source": [
    "%load_ext autoreload\n",
    "%autoreload 2"
   ]
  },
  {
   "cell_type": "code",
   "execution_count": null,
   "id": "2bd1544d-2ea4-472a-8446-864fb872b993",
   "metadata": {},
   "outputs": [],
   "source": [
    "# cd into transcoder_circuits\n",
    "import os\n",
    "os.environ[\"CUDA_VISIBLE_DEVICES\"] = \"1\"\n",
    "\n",
    "from transcoder_circuits.circuit_analysis import *\n",
    "from transcoder_circuits.feature_dashboards import *\n",
    "from transcoder_circuits.replacement_ctx import *"
   ]
  },
  {
   "cell_type": "code",
   "execution_count": null,
   "id": "587bb6de-8af2-4d23-bffe-095b76389a3f",
   "metadata": {},
   "outputs": [
    {
     "name": "stdout",
     "output_type": "stream",
     "text": [
      "Loaded pretrained model pythia-410m into HookedTransformer\n"
     ]
    }
   ],
   "source": [
    "from sae_training.sparse_autoencoder import SparseAutoencoder\n",
    "from transformer_lens import HookedTransformer, utils\n",
    "\n",
    "model = HookedTransformer.from_pretrained('gpt2');model_name=\"GPT2-124M\""
   ]
  },
  {
   "cell_type": "code",
   "execution_count": 5,
   "id": "6caffab4-b964-47c2-b1e0-49fd9cbff8e9",
   "metadata": {},
   "outputs": [],
   "source": [
    "from datasets import load_dataset\n",
    "from huggingface_hub import HfApi\n",
    "from utils import tokenize_and_concatenate\n",
    "from functools import partial\n",
    "\n",
    "dataset = load_dataset('Skylion007/openwebtext', split='train', streaming=True)\n",
    "dataset = dataset.shuffle(seed=42, buffer_size=10_000)\n",
    "tokenized_owt = tokenize_and_concatenate(dataset, model.tokenizer, max_length=128, streaming=True)\n",
    "tokenized_owt = tokenized_owt.shuffle(42)\n",
    "tokenized_owt = tokenized_owt.take(12800*2)\n",
    "owt_tokens = np.stack([x['tokens'] for x in tokenized_owt])"
   ]
  },
  {
   "cell_type": "code",
   "execution_count": 6,
   "id": "ba288f88-eab1-4eac-b49d-1da315133f50",
   "metadata": {},
   "outputs": [],
   "source": [
    "owt_tokens_torch = torch.from_numpy(owt_tokens).cuda()"
   ]
  },
  {
   "cell_type": "code",
   "execution_count": null,
   "id": "fbe4bcef-b637-4689-8390-db66f2285567",
   "metadata": {},
   "outputs": [],
   "source": [
    "############# gpt2-124m\n",
    "transcoder_template = \"final_mod_gpt2-small_blocks.8.ln2.hook_normalized-saewidth_3072-conditional_True-nexperts_21490-activfn_gelu-glu_False-topk_32-lr_0.0001_totaltokens_480000000\"; layer_type=\"MoD\"\n",
    "base_llm = 'GPT2-124m'\n",
    "\n",
    "transcoder = SparseAutoencoder.load_from_pretrained(f\"{transcoder_template}.pt\").eval()\n",
    "frequencies =  torch.load(f\"{transcoder_template}_log_feature_sparsity.pt\")\n",
    "    \n",
    "print('use MoD?', transcoder.use_conditional)\n",
    "print('# experts', transcoder.n_experts)\n",
    "print('dec norm?', transcoder.cfg.norm_dec)\n",
    "print('total training tokens', format(transcoder.cfg.total_training_tokens, ','))\n",
    "\n",
    "print('model config:')\n",
    "transcoder.cfg"
   ]
  },
  {
   "cell_type": "code",
   "execution_count": 69,
   "id": "42c3b43d-197d-4ed7-8e91-58c34ccfae4c",
   "metadata": {},
   "outputs": [],
   "source": [
    "# Clean up memory\n",
    "import gc\n",
    "gc.collect()\n",
    "torch.cuda.empty_cache()"
   ]
  },
  {
   "cell_type": "code",
   "execution_count": null,
   "id": "a51cab78-5ea3-4766-bdca-3af7cf6c2171",
   "metadata": {},
   "outputs": [
    {
     "data": {
      "image/png": "[encoded data removed]",
      "text/plain": [
       "<Figure size 400x300 with 1 Axes>"
      ]
     },
     "metadata": {},
     "output_type": "display_data"
    }
   ],
   "source": [
    "import seaborn as sns\n",
    "\n",
    "\n",
    "# plt.hist(utils.to_numpy(frequencies), bins=100)\n",
    "plt.figure(figsize=(4,3))\n",
    "sns.histplot(utils.to_numpy(frequencies), bins=50, kde=True)\n",
    "plt.xlabel(\"Log10 feature firing frequency\")\n",
    "plt.ylabel(\"Number of features\")\n",
    "plt.title(f\"Feature usage: {model_name} - {layer_type}\")\n",
    "sns.despine()\n",
    "plt.tight_layout()\n",
    "\n",
    "plt.savefig(f'feature-sparsity-{model_name}-{layer_type}.pdf')\n",
    "plt.show()"
   ]
  },
  {
   "cell_type": "code",
   "execution_count": null,
   "id": "81143d08-addd-4cf8-8a81-ba3a1b9efbf4",
   "metadata": {},
   "outputs": [],
   "source": [
    "feature_idx = 21\n",
    "\n",
    "start_text = \"Let's talk about \"\n",
    "max_new_tokens = 32\n",
    "num_samples = 10\n",
    "coeff = 100\n",
    "\n",
    "def run_generate(start_text, sampling_kwargs, seed=42):\n",
    "    model.reset_hooks()\n",
    "    \n",
    "    if seed is not None: torch.manual_seed(seed)\n",
    "        \n",
    "    tokenized = model.to_tokens([start_text] * num_samples)\n",
    "    result = model.generate(stop_at_eos=False, input=tokenized, max_new_tokens=max_new_tokens, do_sample=True, **sampling_kwargs)\n",
    "\n",
    "    res_str = model.to_string(result[:, 1:])\n",
    "    return res_str\n",
    "\n",
    "print(f'Steering with feature id: {feature_idx}')\n",
    "sampling_kwargs = dict(temperature=1.0, top_p=0.1, freq_penalty=1.0)\n",
    "\n",
    "def a_hook(a, layer, feature_idx):\n",
    "    a[..., feature_idx] += coeff\n",
    "    return a\n",
    "\n",
    "with TranscoderReplacementContext(model, [transcoder]):\n",
    "    transcoder.a_hook = partial(a_hook, feature_idx=feature_idx)\n",
    "    generations = run_generate(start_text, sampling_kwargs)\n",
    "    print((\"\\n\\n\" + \"-\" * 80 + \"\\n\\n\").join(generations))\n",
    "    transcoder.a_hook = None # disable the steering hook for future forward pass"
   ]
  },
  {
   "cell_type": "markdown",
   "id": "accfdf82-0d13-4a79-9785-fcdfdffdb45d",
   "metadata": {},
   "source": [
    "# llm judge"
   ]
  },
  {
   "cell_type": "code",
   "execution_count": null,
   "id": "e3ff6b4c-27f4-4b14-bd4f-d9cdbdbb96d3",
   "metadata": {},
   "outputs": [],
   "source": [
    "prompt = f\"You are an expert evaluator of synthetic text. TASK: Rate a collection of {num_samples} samples along two independent axes. AXIS 1 – CONCEPT COHERENCE: 0.00  no shared concepts/themes/style. 0.25  faint overlap. 0.50  some overlap or similar structure. 0.75  mostly the same concepts or structure; a few partial drifts. 1.00  all snippets clearly share the same concepts, themes, style, or structure. AXIS 2 – GRAMMATICAL FLUENCY: 0.00  incomprehensible. 0.25  dense errors; meaning often obscured. 0.50  frequent errors; meaning still mostly recoverable. 0.75  minor errors that rarely hinder comprehension. 1.00  completely grammatical and natural. (Do not penalise fluency if a snippet starts or ends abruptly.). SCORING: Choose any real value in [0, 1] for each axis. OUTPUT FORMAT: Respond with exactly two numbers formatted '0.00, 0.00' in the order [coherence, fluency] and no other text or symbols. TEXT TO EVALUATE: \""
   ]
  },
  {
   "cell_type": "code",
   "execution_count": null,
   "id": "21b43506-8ce2-4a4b-99b0-675dca227ada",
   "metadata": {
    "scrolled": true
   },
   "outputs": [],
   "source": [
    "import time\n",
    "from google import genai\n",
    "from functools import partial\n",
    "\n",
    "\n",
    "from groq import Groq\n",
    "groq_client = Groq(\n",
    "    api_key=groq_api_key,\n",
    ")\n",
    "\n",
    "from together import Together\n",
    "t_client = Together(api_key=t_api_key) # auth defaults to os.environ.get(\"TOGETHER_API_KEY\")\n",
    "\n",
    "client = genai.Client(api_key=g_api_key)\n",
    "llm_judge_model1 =  \"gemini-2.0-flash\"\n",
    "llm_judge_model2 =  \"meta-llama/llama-4-scout-17b-16e-instruct\"\n",
    "\n",
    "num_features = 1\n",
    "num_features = 100\n",
    "\n",
    "g_scores = []\n",
    "c_scores = []\n",
    "generations = []\n",
    "\n",
    "for feature_idx in range(num_features):\n",
    "    with TranscoderReplacementContext(model, [transcoder]):\n",
    "        transcoder.a_hook = partial(a_hook, feature_idx=feature_idx)\n",
    "        \n",
    "        generation = run_generate(start_text, sampling_kwargs)\n",
    "        generations += [generation]\n",
    "    \n",
    "        transcoder.a_hook = None\n",
    "\n",
    "        content = prompt + ''.join([f'<sample>{x}</sample>' for x in generation])\n",
    "        \n",
    "        # query judge model 1\n",
    "        response = client.models.generate_content(\n",
    "            model=llm_judge_model1,\n",
    "            contents=content,\n",
    "        )\n",
    "\n",
    "        # query judge model 2\n",
    "        chat_completion = groq_client.chat.completions.create(\n",
    "            messages=[{ \"role\": \"user\", \"content\": content }],\n",
    "            model=llm_judge_model2,\n",
    "            stream=False,\n",
    "        )\n",
    "        g_scores += [response.text] \n",
    "        c_scores += [chat_completion.choices[0].message.content]\n",
    "        \n",
    "    time.sleep(5)"
   ]
  },
  {
   "cell_type": "code",
   "execution_count": null,
   "id": "a794f4d2-2062-40ce-b402-7eda5978c6b1",
   "metadata": {},
   "outputs": [],
   "source": [
    "import re\n",
    "c_scores = [re.sub(r'\\s+', '', s) for s in c_scores]\n",
    "g_scores = [re.sub(r'\\s+', '', s) for s in g_scores]\n",
    "\n",
    "# remove anything in addition to returned scores\n",
    "g_score_strings = [s.replace('\\n', '')[:9] for s in g_scores]\n",
    "c_score_strings = [s.replace('\\n', '')[:9] for s in c_scores]\n",
    "\n",
    "g_score_strings = np.array([[float(x) for x in s.split(',')] for s in g_score_strings])\n",
    "c_score_strings = np.array([[float(x) for x in s.split(',')] for s in c_score_strings])\n",
    "\n",
    "scores = [g_score_strings, c_score_strings]"
   ]
  },
  {
   "cell_type": "code",
   "execution_count": 83,
   "id": "f6e3fba1-f1df-4a00-a98c-d770ec87809a",
   "metadata": {},
   "outputs": [
    {
     "name": "stdout",
     "output_type": "stream",
     "text": [
      "Saving to SAE\n"
     ]
    }
   ],
   "source": [
    "import pickle\n",
    "\n",
    "print(f'Saving to {layer_type}')\n",
    "with open(f'./{layer_type}-steering-{base_llm}.pickle', 'wb') as f:\n",
    "    pickle.dump(scores, f)"
   ]
  },
  {
   "cell_type": "markdown",
   "id": "2764428b",
   "metadata": {},
   "source": [
    "# load and view saved scores"
   ]
  },
  {
   "cell_type": "code",
   "execution_count": null,
   "id": "7a19deba-bdf2-4a6b-9b3b-fc7362d40d8b",
   "metadata": {},
   "outputs": [
    {
     "data": {
      "image/png": "[encoded data removed]",
      "text/plain": [
       "<Figure size 300x300 with 1 Axes>"
      ]
     },
     "metadata": {},
     "output_type": "display_data"
    }
   ],
   "source": [
    "import numpy as np\n",
    "import seaborn as sns\n",
    "import matplotlib.pyplot as plt\n",
    "from matplotlib import colormaps\n",
    "from matplotlib.patches import Ellipse\n",
    "colors = colormaps.get_cmap('Set1').colors\n",
    "\n",
    "def plot_cov_ellipse(mean, eigvals, eigvecs, ax, color, n_std=1.0):\n",
    "    width, height = 2 * n_std * np.sqrt(eigvals)\n",
    "    angle = np.degrees(np.arctan2(eigvecs[1, 0], eigvecs[0, 0]))\n",
    "\n",
    "    face_rgba = (*color, 0.0)\n",
    "    edge_rgba = (*color, 1.0)\n",
    "    \n",
    "    ell = Ellipse(xy=mean, width=width, height=height, angle=angle, lw=1.5)\n",
    "    ell.set_facecolor((*color, 0.01))\n",
    "    ell.set_edgecolor((*color, 0.5))\n",
    "    \n",
    "    ax.add_patch(ell)\n",
    "\n",
    "fig, ax = plt.subplots(figsize=(3, 3))\n",
    "\n",
    "base_llm = 'GPT2-124m'\n",
    "############# take each judge's score separately as a different point\n",
    "mod_scores = np.concatenate(np.stack(pickle.load(open(f'./MoD-steering-{base_llm}.pickle', 'rb'))), axis=0)\n",
    "tc_scores  = np.concatenate(np.stack(pickle.load(open(f'./TC-steering-{base_llm}.pickle', 'rb'))), axis=0)\n",
    "stc_scores = np.concatenate(np.stack(pickle.load(open(f'./STC-steering-{base_llm}.pickle', 'rb'))), axis=0)\n",
    "sae_scores = np.concatenate(np.stack(pickle.load(open(f'./SAE-steering-{base_llm}.pickle', 'rb'))), axis=0)\n",
    "\n",
    "for i, (s, name) in enumerate(zip([mod_scores, tc_scores, stc_scores, sae_scores], ['MoD', 'TC', 'Skip-TC', 'TopK-SAE'])):\n",
    "    mean = s.mean(axis=0)\n",
    "    cov = np.cov(s, rowvar=False)\n",
    "    \n",
    "    eigvals, eigvecs = np.linalg.eigh(cov)\n",
    "    order = eigvals.argsort()[::-1]\n",
    "    eigvals, eigvecs = eigvals[order], eigvecs[:, order]\n",
    "    \n",
    "    plot_cov_ellipse(mean, eigvals, eigvecs, ax, color=colors[i], n_std=1.0)\n",
    "    ax.scatter(*mean, marker='.', s=50, label=name, color=colors[i])\n",
    "    \n",
    "ax.set_aspect('equal', 'box')\n",
    "ax.set_xlim(0,1.05); ax.set_ylim(0,1.05)\n",
    "ax.grid(True, linestyle='--', alpha=0.5)\n",
    "ax.set_xlabel('Concept steerability $\\\\rightarrow$', fontsize=12)\n",
    "ax.set_ylabel('Textual coherence $\\\\rightarrow$', fontsize=12)\n",
    "ax.legend(title=base_llm, title_fontproperties={'weight': 'bold', 'size': 10}, loc='lower left')\n",
    "\n",
    "sns.despine()\n",
    "plt.tight_layout()\n",
    "plt.savefig(f'steerability-coherence-{base_llm}.pdf')\n",
    "plt.show()"
   ]
  }
 ],
 "metadata": {
  "kernelspec": {
   "display_name": "Python (steer)",
   "language": "python",
   "name": "mod"
  },
  "language_info": {
   "codemirror_mode": {
    "name": "ipython",
    "version": 3
   },
   "file_extension": ".py",
   "mimetype": "text/x-python",
   "name": "python",
   "nbconvert_exporter": "python",
   "pygments_lexer": "ipython3",
   "version": "3.10.4"
  }
 },
 "nbformat": 4,
 "nbformat_minor": 5
}
